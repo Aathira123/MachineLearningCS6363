{
  "nbformat": 4,
  "nbformat_minor": 0,
  "metadata": {
    "colab": {
      "provenance": []
    },
    "kernelspec": {
      "name": "python3",
      "display_name": "Python 3"
    },
    "language_info": {
      "name": "python"
    }
  },
  "cells": [
    {
      "cell_type": "code",
      "execution_count": 20,
      "metadata": {
        "id": "oPkGWN1cpwNS"
      },
      "outputs": [],
      "source": [
        "import pandas as pd\n",
        "import numpy as np\n",
        "import matplotlib.pyplot as plt\n",
        "from sklearn.model_selection import train_test_split \n",
        "import seaborn as sns\n",
        "import datetime\n",
        "from sklearn.metrics import r2_score\n",
        "from sklearn.preprocessing import MinMaxScaler"
      ]
    },
    {
      "cell_type": "code",
      "source": [
        "data=pd.read_csv(\"https://raw.githubusercontent.com/Aathira123/DataFile/main/netflix-stock.csv\")\n"
      ],
      "metadata": {
        "id": "EvHKnts8vJ1n"
      },
      "execution_count": 21,
      "outputs": []
    },
    {
      "cell_type": "code",
      "source": [
        "data.head(12)\n"
      ],
      "metadata": {
        "colab": {
          "base_uri": "https://localhost:8080/",
          "height": 414
        },
        "id": "pIw8KYvSvJ3a",
        "outputId": "b8489131-fce1-400d-f06d-07ace02cce5e"
      },
      "execution_count": 22,
      "outputs": [
        {
          "output_type": "execute_result",
          "data": {
            "text/plain": [
              "          Date      Open      High       Low     Close  Adj Close    Volume\n",
              "0   2002-05-24  1.214286  1.225000  1.197143  1.210000   1.210000  11104800\n",
              "1   2002-05-28  1.213571  1.232143  1.157143  1.157143   1.157143   6609400\n",
              "2   2002-05-29  1.164286  1.164286  1.085714  1.103571   1.103571   6757800\n",
              "3   2002-05-30  1.107857  1.107857  1.071429  1.071429   1.071429  10154200\n",
              "4   2002-05-31  1.078571  1.078571  1.071429  1.076429   1.076429   8464400\n",
              "5   2002-06-03  1.080000  1.149286  1.076429  1.128571   1.128571   3151400\n",
              "6   2002-06-04  1.135714  1.140000  1.110714  1.117857   1.117857   3105200\n",
              "7   2002-06-05  1.110714  1.159286  1.107143  1.147143   1.147143   1531600\n",
              "8   2002-06-06  1.150000  1.232143  1.148571  1.182143   1.182143   2305800\n",
              "9   2002-06-07  1.177857  1.177857  1.103571  1.118571   1.118571   1369200\n",
              "10  2002-06-10  1.135000  1.175000  1.134286  1.156429   1.156429    484400\n",
              "11  2002-06-11  1.156429  1.188571  1.128571  1.153571   1.153571   1003800"
            ],
            "text/html": [
              "\n",
              "  <div id=\"df-fe0a005a-4977-430f-930f-fedfe5e73d17\">\n",
              "    <div class=\"colab-df-container\">\n",
              "      <div>\n",
              "<style scoped>\n",
              "    .dataframe tbody tr th:only-of-type {\n",
              "        vertical-align: middle;\n",
              "    }\n",
              "\n",
              "    .dataframe tbody tr th {\n",
              "        vertical-align: top;\n",
              "    }\n",
              "\n",
              "    .dataframe thead th {\n",
              "        text-align: right;\n",
              "    }\n",
              "</style>\n",
              "<table border=\"1\" class=\"dataframe\">\n",
              "  <thead>\n",
              "    <tr style=\"text-align: right;\">\n",
              "      <th></th>\n",
              "      <th>Date</th>\n",
              "      <th>Open</th>\n",
              "      <th>High</th>\n",
              "      <th>Low</th>\n",
              "      <th>Close</th>\n",
              "      <th>Adj Close</th>\n",
              "      <th>Volume</th>\n",
              "    </tr>\n",
              "  </thead>\n",
              "  <tbody>\n",
              "    <tr>\n",
              "      <th>0</th>\n",
              "      <td>2002-05-24</td>\n",
              "      <td>1.214286</td>\n",
              "      <td>1.225000</td>\n",
              "      <td>1.197143</td>\n",
              "      <td>1.210000</td>\n",
              "      <td>1.210000</td>\n",
              "      <td>11104800</td>\n",
              "    </tr>\n",
              "    <tr>\n",
              "      <th>1</th>\n",
              "      <td>2002-05-28</td>\n",
              "      <td>1.213571</td>\n",
              "      <td>1.232143</td>\n",
              "      <td>1.157143</td>\n",
              "      <td>1.157143</td>\n",
              "      <td>1.157143</td>\n",
              "      <td>6609400</td>\n",
              "    </tr>\n",
              "    <tr>\n",
              "      <th>2</th>\n",
              "      <td>2002-05-29</td>\n",
              "      <td>1.164286</td>\n",
              "      <td>1.164286</td>\n",
              "      <td>1.085714</td>\n",
              "      <td>1.103571</td>\n",
              "      <td>1.103571</td>\n",
              "      <td>6757800</td>\n",
              "    </tr>\n",
              "    <tr>\n",
              "      <th>3</th>\n",
              "      <td>2002-05-30</td>\n",
              "      <td>1.107857</td>\n",
              "      <td>1.107857</td>\n",
              "      <td>1.071429</td>\n",
              "      <td>1.071429</td>\n",
              "      <td>1.071429</td>\n",
              "      <td>10154200</td>\n",
              "    </tr>\n",
              "    <tr>\n",
              "      <th>4</th>\n",
              "      <td>2002-05-31</td>\n",
              "      <td>1.078571</td>\n",
              "      <td>1.078571</td>\n",
              "      <td>1.071429</td>\n",
              "      <td>1.076429</td>\n",
              "      <td>1.076429</td>\n",
              "      <td>8464400</td>\n",
              "    </tr>\n",
              "    <tr>\n",
              "      <th>5</th>\n",
              "      <td>2002-06-03</td>\n",
              "      <td>1.080000</td>\n",
              "      <td>1.149286</td>\n",
              "      <td>1.076429</td>\n",
              "      <td>1.128571</td>\n",
              "      <td>1.128571</td>\n",
              "      <td>3151400</td>\n",
              "    </tr>\n",
              "    <tr>\n",
              "      <th>6</th>\n",
              "      <td>2002-06-04</td>\n",
              "      <td>1.135714</td>\n",
              "      <td>1.140000</td>\n",
              "      <td>1.110714</td>\n",
              "      <td>1.117857</td>\n",
              "      <td>1.117857</td>\n",
              "      <td>3105200</td>\n",
              "    </tr>\n",
              "    <tr>\n",
              "      <th>7</th>\n",
              "      <td>2002-06-05</td>\n",
              "      <td>1.110714</td>\n",
              "      <td>1.159286</td>\n",
              "      <td>1.107143</td>\n",
              "      <td>1.147143</td>\n",
              "      <td>1.147143</td>\n",
              "      <td>1531600</td>\n",
              "    </tr>\n",
              "    <tr>\n",
              "      <th>8</th>\n",
              "      <td>2002-06-06</td>\n",
              "      <td>1.150000</td>\n",
              "      <td>1.232143</td>\n",
              "      <td>1.148571</td>\n",
              "      <td>1.182143</td>\n",
              "      <td>1.182143</td>\n",
              "      <td>2305800</td>\n",
              "    </tr>\n",
              "    <tr>\n",
              "      <th>9</th>\n",
              "      <td>2002-06-07</td>\n",
              "      <td>1.177857</td>\n",
              "      <td>1.177857</td>\n",
              "      <td>1.103571</td>\n",
              "      <td>1.118571</td>\n",
              "      <td>1.118571</td>\n",
              "      <td>1369200</td>\n",
              "    </tr>\n",
              "    <tr>\n",
              "      <th>10</th>\n",
              "      <td>2002-06-10</td>\n",
              "      <td>1.135000</td>\n",
              "      <td>1.175000</td>\n",
              "      <td>1.134286</td>\n",
              "      <td>1.156429</td>\n",
              "      <td>1.156429</td>\n",
              "      <td>484400</td>\n",
              "    </tr>\n",
              "    <tr>\n",
              "      <th>11</th>\n",
              "      <td>2002-06-11</td>\n",
              "      <td>1.156429</td>\n",
              "      <td>1.188571</td>\n",
              "      <td>1.128571</td>\n",
              "      <td>1.153571</td>\n",
              "      <td>1.153571</td>\n",
              "      <td>1003800</td>\n",
              "    </tr>\n",
              "  </tbody>\n",
              "</table>\n",
              "</div>\n",
              "      <button class=\"colab-df-convert\" onclick=\"convertToInteractive('df-fe0a005a-4977-430f-930f-fedfe5e73d17')\"\n",
              "              title=\"Convert this dataframe to an interactive table.\"\n",
              "              style=\"display:none;\">\n",
              "        \n",
              "  <svg xmlns=\"http://www.w3.org/2000/svg\" height=\"24px\"viewBox=\"0 0 24 24\"\n",
              "       width=\"24px\">\n",
              "    <path d=\"M0 0h24v24H0V0z\" fill=\"none\"/>\n",
              "    <path d=\"M18.56 5.44l.94 2.06.94-2.06 2.06-.94-2.06-.94-.94-2.06-.94 2.06-2.06.94zm-11 1L8.5 8.5l.94-2.06 2.06-.94-2.06-.94L8.5 2.5l-.94 2.06-2.06.94zm10 10l.94 2.06.94-2.06 2.06-.94-2.06-.94-.94-2.06-.94 2.06-2.06.94z\"/><path d=\"M17.41 7.96l-1.37-1.37c-.4-.4-.92-.59-1.43-.59-.52 0-1.04.2-1.43.59L10.3 9.45l-7.72 7.72c-.78.78-.78 2.05 0 2.83L4 21.41c.39.39.9.59 1.41.59.51 0 1.02-.2 1.41-.59l7.78-7.78 2.81-2.81c.8-.78.8-2.07 0-2.86zM5.41 20L4 18.59l7.72-7.72 1.47 1.35L5.41 20z\"/>\n",
              "  </svg>\n",
              "      </button>\n",
              "      \n",
              "  <style>\n",
              "    .colab-df-container {\n",
              "      display:flex;\n",
              "      flex-wrap:wrap;\n",
              "      gap: 12px;\n",
              "    }\n",
              "\n",
              "    .colab-df-convert {\n",
              "      background-color: #E8F0FE;\n",
              "      border: none;\n",
              "      border-radius: 50%;\n",
              "      cursor: pointer;\n",
              "      display: none;\n",
              "      fill: #1967D2;\n",
              "      height: 32px;\n",
              "      padding: 0 0 0 0;\n",
              "      width: 32px;\n",
              "    }\n",
              "\n",
              "    .colab-df-convert:hover {\n",
              "      background-color: #E2EBFA;\n",
              "      box-shadow: 0px 1px 2px rgba(60, 64, 67, 0.3), 0px 1px 3px 1px rgba(60, 64, 67, 0.15);\n",
              "      fill: #174EA6;\n",
              "    }\n",
              "\n",
              "    [theme=dark] .colab-df-convert {\n",
              "      background-color: #3B4455;\n",
              "      fill: #D2E3FC;\n",
              "    }\n",
              "\n",
              "    [theme=dark] .colab-df-convert:hover {\n",
              "      background-color: #434B5C;\n",
              "      box-shadow: 0px 1px 3px 1px rgba(0, 0, 0, 0.15);\n",
              "      filter: drop-shadow(0px 1px 2px rgba(0, 0, 0, 0.3));\n",
              "      fill: #FFFFFF;\n",
              "    }\n",
              "  </style>\n",
              "\n",
              "      <script>\n",
              "        const buttonEl =\n",
              "          document.querySelector('#df-fe0a005a-4977-430f-930f-fedfe5e73d17 button.colab-df-convert');\n",
              "        buttonEl.style.display =\n",
              "          google.colab.kernel.accessAllowed ? 'block' : 'none';\n",
              "\n",
              "        async function convertToInteractive(key) {\n",
              "          const element = document.querySelector('#df-fe0a005a-4977-430f-930f-fedfe5e73d17');\n",
              "          const dataTable =\n",
              "            await google.colab.kernel.invokeFunction('convertToInteractive',\n",
              "                                                     [key], {});\n",
              "          if (!dataTable) return;\n",
              "\n",
              "          const docLinkHtml = 'Like what you see? Visit the ' +\n",
              "            '<a target=\"_blank\" href=https://colab.research.google.com/notebooks/data_table.ipynb>data table notebook</a>'\n",
              "            + ' to learn more about interactive tables.';\n",
              "          element.innerHTML = '';\n",
              "          dataTable['output_type'] = 'display_data';\n",
              "          await google.colab.output.renderOutput(dataTable, element);\n",
              "          const docLink = document.createElement('div');\n",
              "          docLink.innerHTML = docLinkHtml;\n",
              "          element.appendChild(docLink);\n",
              "        }\n",
              "      </script>\n",
              "    </div>\n",
              "  </div>\n",
              "  "
            ]
          },
          "metadata": {},
          "execution_count": 22
        }
      ]
    },
    {
      "cell_type": "code",
      "source": [
        "data.shape"
      ],
      "metadata": {
        "colab": {
          "base_uri": "https://localhost:8080/"
        },
        "id": "rMnygPlevQzO",
        "outputId": "5f3d3506-501e-4085-f163-5272e2ff3071"
      },
      "execution_count": 23,
      "outputs": [
        {
          "output_type": "execute_result",
          "data": {
            "text/plain": [
              "(5163, 7)"
            ]
          },
          "metadata": {},
          "execution_count": 23
        }
      ]
    },
    {
      "cell_type": "markdown",
      "source": [
        "Check if the dataset contains null values and we can see it contains no nullvalues"
      ],
      "metadata": {
        "id": "BaiwWgplvang"
      }
    },
    {
      "cell_type": "code",
      "source": [
        "data.isnull().sum()"
      ],
      "metadata": {
        "colab": {
          "base_uri": "https://localhost:8080/"
        },
        "id": "5joeDHTxvQ1Y",
        "outputId": "f601c2c1-704e-4bb5-ddbd-84dc0ace157b"
      },
      "execution_count": 24,
      "outputs": [
        {
          "output_type": "execute_result",
          "data": {
            "text/plain": [
              "Date         0\n",
              "Open         0\n",
              "High         0\n",
              "Low          0\n",
              "Close        0\n",
              "Adj Close    0\n",
              "Volume       0\n",
              "dtype: int64"
            ]
          },
          "metadata": {},
          "execution_count": 24
        }
      ]
    },
    {
      "cell_type": "markdown",
      "source": [
        "Lets add a new column called \"year\" from the date column"
      ],
      "metadata": {
        "id": "lWH3OCLSve4Y"
      }
    },
    {
      "cell_type": "code",
      "source": [
        "splitted = data['Date'].str.split('-', expand=True)\n",
        "data['year'] = splitted[0].astype('int')"
      ],
      "metadata": {
        "id": "FpoFXeRpvQ3T"
      },
      "execution_count": 25,
      "outputs": []
    },
    {
      "cell_type": "markdown",
      "source": [
        "We can group the data based on year and plot its mean as a bar plot"
      ],
      "metadata": {
        "id": "t3AkdKjlvk9n"
      }
    },
    {
      "cell_type": "code",
      "source": [
        "yeared_data = data.groupby('year').mean()\n",
        "plt.subplots(figsize=(18,8))\n",
        "for i, col in enumerate(['Open', 'Close']):\n",
        "  plt.ylabel(col)\n",
        "  plt.xlabel(\"year\")\n",
        "  plt.subplot(1,2,i+1)\n",
        "  yeared_data[col].plot.bar()\n",
        "plt.show()\n"
      ],
      "metadata": {
        "colab": {
          "base_uri": "https://localhost:8080/",
          "height": 511
        },
        "id": "iWmESy8qvQ5S",
        "outputId": "0d228102-b168-49cb-e0ee-e534e07a9b96"
      },
      "execution_count": 26,
      "outputs": [
        {
          "output_type": "display_data",
          "data": {
            "text/plain": [
              "<Figure size 1296x576 with 2 Axes>"
            ],
            "image/png": "[encoded data removed]"
          },
          "metadata": {
            "needs_background": "light"
          }
        }
      ]
    },
    {
      "cell_type": "markdown",
      "source": [
        "As we can see , The stock price is the highest in the year 2021.After 2021 there is a huge drop in the stock price of netflix.\n",
        "We reduce our dataframe to contain the date and closing price for a particular day and we will from further on use closing price to give to our model for prediction"
      ],
      "metadata": {
        "id": "4mQicXKvvsdD"
      }
    },
    {
      "cell_type": "code",
      "source": [
        "\n",
        "df=data[['Date','Close']]"
      ],
      "metadata": {
        "id": "Y7y8sNoKvQ7C"
      },
      "execution_count": 27,
      "outputs": []
    },
    {
      "cell_type": "markdown",
      "source": [
        "Checking the datatype of Date and Close"
      ],
      "metadata": {
        "id": "D3b5nst7wVKF"
      }
    },
    {
      "cell_type": "code",
      "source": [
        "df.dtypes"
      ],
      "metadata": {
        "colab": {
          "base_uri": "https://localhost:8080/"
        },
        "id": "TW1Ar0VUvQ87",
        "outputId": "02fe4d40-9662-4ce1-94b6-81a9722aa140"
      },
      "execution_count": 28,
      "outputs": [
        {
          "output_type": "execute_result",
          "data": {
            "text/plain": [
              "Date      object\n",
              "Close    float64\n",
              "dtype: object"
            ]
          },
          "metadata": {},
          "execution_count": 28
        }
      ]
    },
    {
      "cell_type": "markdown",
      "source": [
        "We need to convert Date into datetime format as it is currently stored as object dtype"
      ],
      "metadata": {
        "id": "4JVdmVEtwn-x"
      }
    },
    {
      "cell_type": "code",
      "source": [
        "df['Date']= pd.to_datetime(df['Date'])\n",
        "df.dtypes"
      ],
      "metadata": {
        "colab": {
          "base_uri": "https://localhost:8080/"
        },
        "id": "LuU-6YTwvQ-0",
        "outputId": "89fe1b8a-5b56-4986-faf0-22d16bb2746f"
      },
      "execution_count": 29,
      "outputs": [
        {
          "output_type": "stream",
          "name": "stderr",
          "text": [
            "<ipython-input-29-612777657fb8>:1: SettingWithCopyWarning: \n",
            "A value is trying to be set on a copy of a slice from a DataFrame.\n",
            "Try using .loc[row_indexer,col_indexer] = value instead\n",
            "\n",
            "See the caveats in the documentation: https://pandas.pydata.org/pandas-docs/stable/user_guide/indexing.html#returning-a-view-versus-a-copy\n",
            "  df['Date']= pd.to_datetime(df['Date'])\n"
          ]
        },
        {
          "output_type": "execute_result",
          "data": {
            "text/plain": [
              "Date     datetime64[ns]\n",
              "Close           float64\n",
              "dtype: object"
            ]
          },
          "metadata": {},
          "execution_count": 29
        }
      ]
    },
    {
      "cell_type": "markdown",
      "source": [
        "Setting Date as our Index for the dataframe"
      ],
      "metadata": {
        "id": "21XkvsD8wxV3"
      }
    },
    {
      "cell_type": "code",
      "source": [
        "df.set_index('Date',inplace=True)"
      ],
      "metadata": {
        "id": "PLZovfPdvRAk"
      },
      "execution_count": 30,
      "outputs": []
    },
    {
      "cell_type": "markdown",
      "source": [
        "**Visualising the closing price throughout the years.**"
      ],
      "metadata": {
        "id": "2Yk1nHw5w4yc"
      }
    },
    {
      "cell_type": "code",
      "source": [
        "plt.figure(figsize=(16,8))\n",
        "plt.xlabel(\"Day\")\n",
        "plt.ylabel(\"Closing price\")\n",
        "plt.plot(df.index,df.Close)\n",
        "plt.show()"
      ],
      "metadata": {
        "colab": {
          "base_uri": "https://localhost:8080/",
          "height": 496
        },
        "id": "s57ErcZ1vRCm",
        "outputId": "cba4142e-d804-40b5-e885-ca7a8965ae09"
      },
      "execution_count": 31,
      "outputs": [
        {
          "output_type": "display_data",
          "data": {
            "text/plain": [
              "<Figure size 1152x576 with 1 Axes>"
            ],
            "image/png": "[encoded data removed]"
          },
          "metadata": {
            "needs_background": "light"
          }
        }
      ]
    },
    {
      "cell_type": "markdown",
      "source": [
        "As we can see from the graph , there is a steep increase in the stock price from 2016.But After 2020 there is a sudden drop in the price.\n",
        "We need to have a target column for the model to predict. For this reason , for each date , we add a target column which is the closing price for that day and additionally we add n number of columns which is the closing price of the stock for (currentday-i)th day where i ranges from 1 to n. In our project we will use n=10. This way our problem became a supervised learning problem with 10 feature column and 1 target."
      ],
      "metadata": {
        "id": "TGqKxqcSxCh5"
      }
    },
    {
      "cell_type": "code",
      "source": [
        "def create_new_df(frame, startdate, enddate, n):\n",
        "  startdate = pd.to_datetime(startdate)\n",
        "  enddate  = pd.to_datetime(enddate)\n",
        "  date_iter = startdate\n",
        "  dates = []\n",
        "  prev_prices=[]\n",
        "  curr_day_price=[]\n",
        "  lastdate=False\n",
        "  while True:\n",
        "    df_subset = frame.loc[:date_iter]\n",
        "    df_subset=df_subset.tail(n+1)\n",
        "    dates.append(date_iter)\n",
        "    close_values = df_subset['Close'].to_numpy()\n",
        "    prev_prices.append(close_values[:-1])\n",
        "    curr_day_price.append(close_values[-1])\n",
        "    if(date_iter==enddate):\n",
        "      break\n",
        "    #From current date , get subset of dataframe upto one week\n",
        "    weekly_df = frame.loc[date_iter:date_iter+datetime.timedelta(days=7)]\n",
        "    #Then from the subset dataframe we select the second row\n",
        "    nextrow=weekly_df.iloc[[1]]\n",
        "    dateWithTime = nextrow.index.values[0]\n",
        "    nextDate = str(dateWithTime).split('T')[0].split('-')\n",
        "    year = nextDate[0]\n",
        "    month=nextDate[1]\n",
        "    day=nextDate[2]\n",
        "    next_date = datetime.datetime(day=int(day), month=int(month), year=int(year))\n",
        "    \n",
        "    date_iter = next_date\n",
        "    \n",
        "  updated_df = pd.DataFrame({})\n",
        "  updated_df['Date'] = dates\n",
        "  for i in range(0, n):\n",
        "    updated_df[f'{n-i}thDayPrice'] = np.asarray(prev_prices)[:, i]\n",
        "  updated_df['Closing_Price'] = curr_day_price\n",
        "  return updated_df"
      ],
      "metadata": {
        "id": "VyHskQFpvREe"
      },
      "execution_count": 32,
      "outputs": []
    },
    {
      "cell_type": "code",
      "source": [
        "new_df = create_new_df(df,'2002-06-10', '2022-10-28', n=10)\n",
        "new_df"
      ],
      "metadata": {
        "colab": {
          "base_uri": "https://localhost:8080/",
          "height": 411
        },
        "id": "_ePMD-2RvRGg",
        "outputId": "27ef1b6f-837e-4ae7-933a-3b123fe459b4"
      },
      "execution_count": 33,
      "outputs": [
        {
          "output_type": "execute_result",
          "data": {
            "text/plain": [
              "           Date  10thDayPrice  9thDayPrice  8thDayPrice  7thDayPrice  \\\n",
              "0    2002-06-10      1.210000     1.157143     1.103571     1.071429   \n",
              "1    2002-06-11      1.157143     1.103571     1.071429     1.076429   \n",
              "2    2002-06-12      1.103571     1.071429     1.076429     1.128571   \n",
              "3    2002-06-13      1.071429     1.076429     1.128571     1.117857   \n",
              "4    2002-06-14      1.076429     1.128571     1.117857     1.147143   \n",
              "...         ...           ...          ...          ...          ...   \n",
              "5130 2022-10-24    229.979996   214.289993   220.869995   232.509995   \n",
              "5131 2022-10-25    214.289993   220.869995   232.509995   230.000000   \n",
              "5132 2022-10-26    220.869995   232.509995   230.000000   245.100006   \n",
              "5133 2022-10-27    232.509995   230.000000   245.100006   240.860001   \n",
              "5134 2022-10-28    230.000000   245.100006   240.860001   272.380005   \n",
              "\n",
              "      6thDayPrice  5thDayPrice  4thDayPrice  3thDayPrice  2thDayPrice  \\\n",
              "0        1.076429     1.128571     1.117857     1.147143     1.182143   \n",
              "1        1.128571     1.117857     1.147143     1.182143     1.118571   \n",
              "2        1.117857     1.147143     1.182143     1.118571     1.156429   \n",
              "3        1.147143     1.182143     1.118571     1.156429     1.153571   \n",
              "4        1.182143     1.118571     1.156429     1.153571     1.092857   \n",
              "...           ...          ...          ...          ...          ...   \n",
              "5130   230.000000   245.100006   240.860001   272.380005   268.160004   \n",
              "5131   245.100006   240.860001   272.380005   268.160004   289.570007   \n",
              "5132   240.860001   272.380005   268.160004   289.570007   282.450012   \n",
              "5133   272.380005   268.160004   289.570007   282.450012   291.019989   \n",
              "5134   268.160004   289.570007   282.450012   291.019989   298.619995   \n",
              "\n",
              "      1thDayPrice  Closing_Price  \n",
              "0        1.118571       1.156429  \n",
              "1        1.156429       1.153571  \n",
              "2        1.153571       1.092857  \n",
              "3        1.092857       1.082857  \n",
              "4        1.082857       0.986429  \n",
              "...           ...            ...  \n",
              "5130   289.570007     282.450012  \n",
              "5131   282.450012     291.019989  \n",
              "5132   291.019989     298.619995  \n",
              "5133   298.619995     296.940002  \n",
              "5134   296.940002     295.720001  \n",
              "\n",
              "[5135 rows x 12 columns]"
            ],
            "text/html": [
              "\n",
              "  <div id=\"df-78fe4fa9-19df-4893-a07a-40906c19b6fe\">\n",
              "    <div class=\"colab-df-container\">\n",
              "      <div>\n",
              "<style scoped>\n",
              "    .dataframe tbody tr th:only-of-type {\n",
              "        vertical-align: middle;\n",
              "    }\n",
              "\n",
              "    .dataframe tbody tr th {\n",
              "        vertical-align: top;\n",
              "    }\n",
              "\n",
              "    .dataframe thead th {\n",
              "        text-align: right;\n",
              "    }\n",
              "</style>\n",
              "<table border=\"1\" class=\"dataframe\">\n",
              "  <thead>\n",
              "    <tr style=\"text-align: right;\">\n",
              "      <th></th>\n",
              "      <th>Date</th>\n",
              "      <th>10thDayPrice</th>\n",
              "      <th>9thDayPrice</th>\n",
              "      <th>8thDayPrice</th>\n",
              "      <th>7thDayPrice</th>\n",
              "      <th>6thDayPrice</th>\n",
              "      <th>5thDayPrice</th>\n",
              "      <th>4thDayPrice</th>\n",
              "      <th>3thDayPrice</th>\n",
              "      <th>2thDayPrice</th>\n",
              "      <th>1thDayPrice</th>\n",
              "      <th>Closing_Price</th>\n",
              "    </tr>\n",
              "  </thead>\n",
              "  <tbody>\n",
              "    <tr>\n",
              "      <th>0</th>\n",
              "      <td>2002-06-10</td>\n",
              "      <td>1.210000</td>\n",
              "      <td>1.157143</td>\n",
              "      <td>1.103571</td>\n",
              "      <td>1.071429</td>\n",
              "      <td>1.076429</td>\n",
              "      <td>1.128571</td>\n",
              "      <td>1.117857</td>\n",
              "      <td>1.147143</td>\n",
              "      <td>1.182143</td>\n",
              "      <td>1.118571</td>\n",
              "      <td>1.156429</td>\n",
              "    </tr>\n",
              "    <tr>\n",
              "      <th>1</th>\n",
              "      <td>2002-06-11</td>\n",
              "      <td>1.157143</td>\n",
              "      <td>1.103571</td>\n",
              "      <td>1.071429</td>\n",
              "      <td>1.076429</td>\n",
              "      <td>1.128571</td>\n",
              "      <td>1.117857</td>\n",
              "      <td>1.147143</td>\n",
              "      <td>1.182143</td>\n",
              "      <td>1.118571</td>\n",
              "      <td>1.156429</td>\n",
              "      <td>1.153571</td>\n",
              "    </tr>\n",
              "    <tr>\n",
              "      <th>2</th>\n",
              "      <td>2002-06-12</td>\n",
              "      <td>1.103571</td>\n",
              "      <td>1.071429</td>\n",
              "      <td>1.076429</td>\n",
              "      <td>1.128571</td>\n",
              "      <td>1.117857</td>\n",
              "      <td>1.147143</td>\n",
              "      <td>1.182143</td>\n",
              "      <td>1.118571</td>\n",
              "      <td>1.156429</td>\n",
              "      <td>1.153571</td>\n",
              "      <td>1.092857</td>\n",
              "    </tr>\n",
              "    <tr>\n",
              "      <th>3</th>\n",
              "      <td>2002-06-13</td>\n",
              "      <td>1.071429</td>\n",
              "      <td>1.076429</td>\n",
              "      <td>1.128571</td>\n",
              "      <td>1.117857</td>\n",
              "      <td>1.147143</td>\n",
              "      <td>1.182143</td>\n",
              "      <td>1.118571</td>\n",
              "      <td>1.156429</td>\n",
              "      <td>1.153571</td>\n",
              "      <td>1.092857</td>\n",
              "      <td>1.082857</td>\n",
              "    </tr>\n",
              "    <tr>\n",
              "      <th>4</th>\n",
              "      <td>2002-06-14</td>\n",
              "      <td>1.076429</td>\n",
              "      <td>1.128571</td>\n",
              "      <td>1.117857</td>\n",
              "      <td>1.147143</td>\n",
              "      <td>1.182143</td>\n",
              "      <td>1.118571</td>\n",
              "      <td>1.156429</td>\n",
              "      <td>1.153571</td>\n",
              "      <td>1.092857</td>\n",
              "      <td>1.082857</td>\n",
              "      <td>0.986429</td>\n",
              "    </tr>\n",
              "    <tr>\n",
              "      <th>...</th>\n",
              "      <td>...</td>\n",
              "      <td>...</td>\n",
              "      <td>...</td>\n",
              "      <td>...</td>\n",
              "      <td>...</td>\n",
              "      <td>...</td>\n",
              "      <td>...</td>\n",
              "      <td>...</td>\n",
              "      <td>...</td>\n",
              "      <td>...</td>\n",
              "      <td>...</td>\n",
              "      <td>...</td>\n",
              "    </tr>\n",
              "    <tr>\n",
              "      <th>5130</th>\n",
              "      <td>2022-10-24</td>\n",
              "      <td>229.979996</td>\n",
              "      <td>214.289993</td>\n",
              "      <td>220.869995</td>\n",
              "      <td>232.509995</td>\n",
              "      <td>230.000000</td>\n",
              "      <td>245.100006</td>\n",
              "      <td>240.860001</td>\n",
              "      <td>272.380005</td>\n",
              "      <td>268.160004</td>\n",
              "      <td>289.570007</td>\n",
              "      <td>282.450012</td>\n",
              "    </tr>\n",
              "    <tr>\n",
              "      <th>5131</th>\n",
              "      <td>2022-10-25</td>\n",
              "      <td>214.289993</td>\n",
              "      <td>220.869995</td>\n",
              "      <td>232.509995</td>\n",
              "      <td>230.000000</td>\n",
              "      <td>245.100006</td>\n",
              "      <td>240.860001</td>\n",
              "      <td>272.380005</td>\n",
              "      <td>268.160004</td>\n",
              "      <td>289.570007</td>\n",
              "      <td>282.450012</td>\n",
              "      <td>291.019989</td>\n",
              "    </tr>\n",
              "    <tr>\n",
              "      <th>5132</th>\n",
              "      <td>2022-10-26</td>\n",
              "      <td>220.869995</td>\n",
              "      <td>232.509995</td>\n",
              "      <td>230.000000</td>\n",
              "      <td>245.100006</td>\n",
              "      <td>240.860001</td>\n",
              "      <td>272.380005</td>\n",
              "      <td>268.160004</td>\n",
              "      <td>289.570007</td>\n",
              "      <td>282.450012</td>\n",
              "      <td>291.019989</td>\n",
              "      <td>298.619995</td>\n",
              "    </tr>\n",
              "    <tr>\n",
              "      <th>5133</th>\n",
              "      <td>2022-10-27</td>\n",
              "      <td>232.509995</td>\n",
              "      <td>230.000000</td>\n",
              "      <td>245.100006</td>\n",
              "      <td>240.860001</td>\n",
              "      <td>272.380005</td>\n",
              "      <td>268.160004</td>\n",
              "      <td>289.570007</td>\n",
              "      <td>282.450012</td>\n",
              "      <td>291.019989</td>\n",
              "      <td>298.619995</td>\n",
              "      <td>296.940002</td>\n",
              "    </tr>\n",
              "    <tr>\n",
              "      <th>5134</th>\n",
              "      <td>2022-10-28</td>\n",
              "      <td>230.000000</td>\n",
              "      <td>245.100006</td>\n",
              "      <td>240.860001</td>\n",
              "      <td>272.380005</td>\n",
              "      <td>268.160004</td>\n",
              "      <td>289.570007</td>\n",
              "      <td>282.450012</td>\n",
              "      <td>291.019989</td>\n",
              "      <td>298.619995</td>\n",
              "      <td>296.940002</td>\n",
              "      <td>295.720001</td>\n",
              "    </tr>\n",
              "  </tbody>\n",
              "</table>\n",
              "<p>5135 rows × 12 columns</p>\n",
              "</div>\n",
              "      <button class=\"colab-df-convert\" onclick=\"convertToInteractive('df-78fe4fa9-19df-4893-a07a-40906c19b6fe')\"\n",
              "              title=\"Convert this dataframe to an interactive table.\"\n",
              "              style=\"display:none;\">\n",
              "        \n",
              "  <svg xmlns=\"http://www.w3.org/2000/svg\" height=\"24px\"viewBox=\"0 0 24 24\"\n",
              "       width=\"24px\">\n",
              "    <path d=\"M0 0h24v24H0V0z\" fill=\"none\"/>\n",
              "    <path d=\"M18.56 5.44l.94 2.06.94-2.06 2.06-.94-2.06-.94-.94-2.06-.94 2.06-2.06.94zm-11 1L8.5 8.5l.94-2.06 2.06-.94-2.06-.94L8.5 2.5l-.94 2.06-2.06.94zm10 10l.94 2.06.94-2.06 2.06-.94-2.06-.94-.94-2.06-.94 2.06-2.06.94z\"/><path d=\"M17.41 7.96l-1.37-1.37c-.4-.4-.92-.59-1.43-.59-.52 0-1.04.2-1.43.59L10.3 9.45l-7.72 7.72c-.78.78-.78 2.05 0 2.83L4 21.41c.39.39.9.59 1.41.59.51 0 1.02-.2 1.41-.59l7.78-7.78 2.81-2.81c.8-.78.8-2.07 0-2.86zM5.41 20L4 18.59l7.72-7.72 1.47 1.35L5.41 20z\"/>\n",
              "  </svg>\n",
              "      </button>\n",
              "      \n",
              "  <style>\n",
              "    .colab-df-container {\n",
              "      display:flex;\n",
              "      flex-wrap:wrap;\n",
              "      gap: 12px;\n",
              "    }\n",
              "\n",
              "    .colab-df-convert {\n",
              "      background-color: #E8F0FE;\n",
              "      border: none;\n",
              "      border-radius: 50%;\n",
              "      cursor: pointer;\n",
              "      display: none;\n",
              "      fill: #1967D2;\n",
              "      height: 32px;\n",
              "      padding: 0 0 0 0;\n",
              "      width: 32px;\n",
              "    }\n",
              "\n",
              "    .colab-df-convert:hover {\n",
              "      background-color: #E2EBFA;\n",
              "      box-shadow: 0px 1px 2px rgba(60, 64, 67, 0.3), 0px 1px 3px 1px rgba(60, 64, 67, 0.15);\n",
              "      fill: #174EA6;\n",
              "    }\n",
              "\n",
              "    [theme=dark] .colab-df-convert {\n",
              "      background-color: #3B4455;\n",
              "      fill: #D2E3FC;\n",
              "    }\n",
              "\n",
              "    [theme=dark] .colab-df-convert:hover {\n",
              "      background-color: #434B5C;\n",
              "      box-shadow: 0px 1px 3px 1px rgba(0, 0, 0, 0.15);\n",
              "      filter: drop-shadow(0px 1px 2px rgba(0, 0, 0, 0.3));\n",
              "      fill: #FFFFFF;\n",
              "    }\n",
              "  </style>\n",
              "\n",
              "      <script>\n",
              "        const buttonEl =\n",
              "          document.querySelector('#df-78fe4fa9-19df-4893-a07a-40906c19b6fe button.colab-df-convert');\n",
              "        buttonEl.style.display =\n",
              "          google.colab.kernel.accessAllowed ? 'block' : 'none';\n",
              "\n",
              "        async function convertToInteractive(key) {\n",
              "          const element = document.querySelector('#df-78fe4fa9-19df-4893-a07a-40906c19b6fe');\n",
              "          const dataTable =\n",
              "            await google.colab.kernel.invokeFunction('convertToInteractive',\n",
              "                                                     [key], {});\n",
              "          if (!dataTable) return;\n",
              "\n",
              "          const docLinkHtml = 'Like what you see? Visit the ' +\n",
              "            '<a target=\"_blank\" href=https://colab.research.google.com/notebooks/data_table.ipynb>data table notebook</a>'\n",
              "            + ' to learn more about interactive tables.';\n",
              "          element.innerHTML = '';\n",
              "          dataTable['output_type'] = 'display_data';\n",
              "          await google.colab.output.renderOutput(dataTable, element);\n",
              "          const docLink = document.createElement('div');\n",
              "          docLink.innerHTML = docLinkHtml;\n",
              "          element.appendChild(docLink);\n",
              "        }\n",
              "      </script>\n",
              "    </div>\n",
              "  </div>\n",
              "  "
            ]
          },
          "metadata": {},
          "execution_count": 33
        }
      ]
    },
    {
      "cell_type": "markdown",
      "source": [
        "Our closing prices have a wide range of values . We scale them to a range of 0 to 1."
      ],
      "metadata": {
        "id": "HKBFJB0MxQTJ"
      }
    },
    {
      "cell_type": "code",
      "source": [
        "scaler = MinMaxScaler()\n",
        "for cols in new_df.columns[1:]:\n",
        "  new_df[cols]=scaler.fit_transform(new_df[[cols]])"
      ],
      "metadata": {
        "id": "YzePX5vYvRIY"
      },
      "execution_count": 34,
      "outputs": []
    },
    {
      "cell_type": "code",
      "source": [
        "#convert our dataframe to numpy array\n",
        "def windowed_df_date_input_output(new_df):\n",
        "  new_df1=new_df.to_numpy()\n",
        "  target_before_column=new_df1[:,0:-1]\n",
        "  X=target_before_column\n",
        "  Y=new_df1[:,-1]\n",
        "  return X,Y.astype(np.float32)"
      ],
      "metadata": {
        "id": "kE1cdFkaxTsK"
      },
      "execution_count": 35,
      "outputs": []
    },
    {
      "cell_type": "code",
      "source": [
        "X,y=windowed_df_date_input_output(new_df)"
      ],
      "metadata": {
        "id": "QawGHhSFxTuH"
      },
      "execution_count": 36,
      "outputs": []
    },
    {
      "cell_type": "code",
      "source": [
        "X_train,X_test,y_train, y_test = train_test_split(X,y, train_size=0.8)"
      ],
      "metadata": {
        "id": "SCVMxMxSxTwM"
      },
      "execution_count": 37,
      "outputs": []
    },
    {
      "cell_type": "markdown",
      "source": [
        "We need to remove the Date column from X_train and X_test. For that we do the following."
      ],
      "metadata": {
        "id": "bBjthyetxwWA"
      }
    },
    {
      "cell_type": "code",
      "source": [
        "X_train1=[]\n",
        "X_test1=[]\n",
        "for ele in X_train:\n",
        "  X_train1.append(ele[1:])\n",
        "for ele in X_test:\n",
        "  X_test1.append(ele[1:]) \n",
        "X_train1=np.asarray(X_train1).astype(np.float32)\n",
        "#Converting from 2D to 3D\n",
        "X_train1=X_train1.reshape(X_train1.shape[0],X_train1.shape[1],1)\n",
        "X_test1=np.asarray(X_test1).astype(np.float32)\n",
        "X_test1=X_test1.reshape(X_test1.shape[0],X_test1.shape[1],1)"
      ],
      "metadata": {
        "id": "fhx300kUxTx6"
      },
      "execution_count": 38,
      "outputs": []
    },
    {
      "cell_type": "code",
      "source": [
        "\n",
        "class LSTM1:\n",
        "    \n",
        "    def state_initialise(self,no_of_neurons,n_cells):\n",
        "        self.forgetState = list(np.zeros((n_cells,no_of_neurons,1)))\n",
        "        self.inputState = list(np.zeros((n_cells,no_of_neurons,1)))\n",
        "        self.candidateState = list(np.zeros((n_cells,no_of_neurons,1)))\n",
        "        self.cellState = list(np.zeros((n_cells,no_of_neurons,1)))\n",
        "        self.op_state = list(np.zeros((n_cells,no_of_neurons,1)))\n",
        "        self.hiddenState = list(np.zeros((n_cells,no_of_neurons,1)))\n",
        "    def weight_bias_initialise(self,no_of_neurons,n_cells):\n",
        "        #To randomely initiliase weights-xavier initialisation\n",
        "        lower, upper = -(1.0 / np.sqrt(n_cells)), (1.0 / np.sqrt(n_cells))\n",
        "        # weights to forget gate , input gate,output gate and cell state\n",
        "        self.forget_weight = lower+np.random.random((no_of_neurons, 1+ no_of_neurons))*(upper-lower)\n",
        "        self.input_weight = lower+np.random.random((no_of_neurons, 1 + no_of_neurons))*(upper-lower)\n",
        "        self.cell_weight = lower+np.random.random((no_of_neurons, 1 + no_of_neurons))*(upper-lower)\n",
        "        self.output_weight = lower+np.random.random((no_of_neurons, 1 + no_of_neurons))*(upper-lower)\n",
        "        # bias of forget gate,input gate, cell state and output gate     \n",
        "        self.forget_bias = lower+np.random.random((no_of_neurons, 1))*(upper-lower)\n",
        "        self.input_bias = lower+np.random.random((no_of_neurons, 1))*(upper-lower)\n",
        "        self.cell_bias = lower+np.random.random((no_of_neurons, 1))*(upper-lower)\n",
        "        self.output_bias = lower+np.random.random((no_of_neurons, 1))*(upper-lower)\n",
        "        \n",
        "        # The last/final output weight and bias\n",
        "        self.last_weight = lower+np.random.random((1, no_of_neurons))*(upper-lower)\n",
        "        self.last_bias= lower+np.random.random((1, 1))*(upper-lower)\n",
        "\n",
        "    # To create LSTM model , we pass the learning rate , Number of cells and neurons\n",
        "    def __init__(self, n_hidden, n_cells, lr_rate):\n",
        "    \n",
        "        # No of neurons in a LSTM layer\n",
        "        self.no_of_neurons = n_hidden\n",
        "        # No. of lstm cells\n",
        "        self.n_cells = n_cells \n",
        "        # learning rate\n",
        "        self.lr_rate = lr_rate\n",
        "        self.state_initialise(n_hidden,n_cells)\n",
        "        self.weight_bias_initialise(n_hidden,n_cells)\n",
        "            \n",
        "    def forward_propagationFn(self, x):\n",
        "        for k in range(1, self.n_cells):\n",
        "            fstate = self.sigmoidFn(np.matmul(self.forget_weight , np.concatenate((self.hiddenState[k-1],x[k].reshape(-1,1)),axis=0)) + self.forget_bias)\n",
        "            istate = self.sigmoidFn(np.matmul(self.input_weight , np.concatenate((self.hiddenState[k-1],x[k].reshape(-1,1)),axis=0)) + self.input_bias)\n",
        "            ostate= self.sigmoidFn(np.matmul(self.output_weight , np.concatenate((self.hiddenState[k-1], x[k].reshape(-1,1)),axis=0)) + self.output_bias)\n",
        "            candstate = self.tanhFn(np.matmul(self.cell_weight, np.concatenate((self.hiddenState[k-1],x[k].reshape(-1,1)),axis=0)) + self.cell_bias)\n",
        "            internalstate = self.cellState[k-1]*fstate + istate*candstate\n",
        "            hidstate = self.tanhFn(internalstate)*ostate\n",
        "            self.forgetState[k] = fstate\n",
        "            self.inputState[k] = istate\n",
        "            self.candidateState[k] = candstate\n",
        "            self.cellState[k] = internalstate     \n",
        "            self.op_state[k] = ostate\n",
        "            self.hiddenState[k] = hidstate\n",
        "        #Weight to the final output neuron multiplied with the last neuron's input and bias added   \n",
        "        y_predicted = self.last_weight @ self.hiddenState[-1] + self.last_bias\n",
        "        return y_predicted\n",
        "    def backpropagationFn(self, y_true, y_pred,x):\n",
        "\n",
        "\n",
        "        forgetStateDelta = list(np.zeros((self.n_cells,self.no_of_neurons,1)))\n",
        "        inputStateDelta = list(np.zeros((self.n_cells,self.no_of_neurons,1)))\n",
        "        candidateStateDelta = list(np.zeros((self.n_cells,self.no_of_neurons,1)))\n",
        "        cellStateDelta = list(np.zeros((self.n_cells,self.no_of_neurons,1)))\n",
        "        outputStateDelta = list(np.zeros((self.n_cells,self.no_of_neurons,1)))\n",
        "        hiddenStateDelta = list(np.zeros((self.n_cells,self.no_of_neurons,1)))\n",
        "\n",
        "        gradient_output_weight = np.zeros((self.no_of_neurons, 1+ self.no_of_neurons))\n",
        "        gradient_output_bias = np.zeros((self.no_of_neurons, 1))\n",
        "        gradient_input_weight = np.zeros((self.no_of_neurons, 1+ self.no_of_neurons))\n",
        "        gradient_input_bias = np.zeros((self.no_of_neurons, 1))\n",
        "        gradient_forget_weight = np.zeros((self.no_of_neurons, 1+ self.no_of_neurons))\n",
        "        gradient_forget_bias = np.zeros((self.no_of_neurons, 1))\n",
        "        gradient_cell_bias = np.zeros_like(a = self.cell_bias)    \n",
        "        gradient_cell_weight = np.zeros((self.no_of_neurons, 1+ self.no_of_neurons))\n",
        "        gradient_last_weight = np.zeros((1, self.no_of_neurons))\n",
        "        gradient_final_bias = np.zeros((1,1)) \n",
        "        true_pred_diff = y_true - y_pred\n",
        "        gradient_final_bias = true_pred_diff \n",
        "        gradient_last_weight = true_pred_diff * self.hiddenState[-1].T\n",
        "        \n",
        "\n",
        "        for t in reversed(range(self.n_cells-1)):\n",
        "\n",
        "            hiddenStateDelta[t] = self.last_weight.T @ true_pred_diff + hiddenStateDelta[t+1]\n",
        "            cellStateDelta[t] =  hiddenStateDelta[t] * self.op_state[t]  * 1-(self.tanhFn(self.cellState[t]))**2 + cellStateDelta[t+1]*self.forgetState[t+1]\n",
        "            candidateStateDelta[t] = cellStateDelta[t] * self.inputState[t]  * 1-(self.candidateState[t])**2\n",
        "            inputStateDelta[t] = cellStateDelta[t] *self.candidateState[t] * self.inputState[t] * (1- self.inputState[t])\n",
        "            forgetStateDelta[t] = cellStateDelta[t]  * self.cellState[t-1] * self.forgetState[t]*(1-self.forgetState[t])\n",
        "            outputStateDelta[t] = hiddenStateDelta[t] * self.tanhFn(self.cellState[t]) * self.op_state[t]*(1-self.op_state[t])\n",
        "            xt = np.concatenate((self.hiddenState[t-1], x[t].reshape(-1,1)),axis=0)\n",
        "            \n",
        "            gradient_forget_weight +=forgetStateDelta[t] @ xt.T\n",
        "            gradient_input_weight += np.matmul(inputStateDelta[t] , xt.T)\n",
        "            gradient_cell_weight += np.matmul(cellStateDelta[t] ,xt.T)\n",
        "            gradient_output_weight += np.matmul(outputStateDelta[t], xt.T)\n",
        "            gradient_input_bias += inputStateDelta[t]\n",
        "            gradient_forget_bias += forgetStateDelta[t]\n",
        "            gradient_output_bias += outputStateDelta[t]\n",
        "            gradient_cell_bias += cellStateDelta[t]            \n",
        "\n",
        "        return gradient_last_weight, gradient_final_bias, gradient_forget_weight, gradient_forget_bias, gradient_input_weight, gradient_input_bias, gradient_output_weight, gradient_output_bias, gradient_cell_weight, gradient_cell_bias\n",
        "\n",
        "    def rmseFn(self,y_true,y_predicted):\n",
        "      numlis=[]\n",
        "      y_true=list(y_true)\n",
        "      for i in range(len(y_true)):\n",
        "        numlis.append((y_true[i]-y_predicted[i])**2)\n",
        "      return np.sqrt(sum(numlis)/len(y_true))\n",
        "    def R2_score(self,y_true,y_predicted):\n",
        "      y_true=list(y_true)\n",
        "      numlis=[]\n",
        "      for i in range(len(y_true)):\n",
        "        numlis.append((y_true[i]-y_predicted[i])**2)\n",
        "\n",
        "      return 1-(sum(numlis)/len(y_true))   \n",
        "    # Function to train       \n",
        "    def fit(self, epochs, x, actual_y):\n",
        "        y_aveg= sum(list(actual_y))/len(actual_y)\n",
        "        for e in range(epochs):\n",
        "            training_loss_per_epoch = 0 \n",
        "            num_list=[]\n",
        "            denom_list=[]\n",
        "            y_list=[]\n",
        "            for i in range(len(x)):\n",
        "            \n",
        "                y_pred = self.forward_propagationFn(x[i])\n",
        "                y_list.append(y_pred)\n",
        "                gradient_last_weight, gradient_final_bias, gradient_forget_weight, gradient_forget_bias, gradient_input_weight, gradient_input_bias, gradient_output_weight, gradient_output_bias, gradient_cell_weight, gradient_cell_bias = self.backpropagationFn(actual_y[i], y_pred,x[i])\n",
        "                self.forget_weight = self.forget_weight + self.lr_rate * gradient_forget_weight/self.n_cells\n",
        "                self.input_weight = self.input_weight + self.lr_rate * gradient_input_weight/self.n_cells\n",
        "                self.cell_weight = self.cell_weight + self.lr_rate * gradient_cell_weight/self.n_cells\n",
        "                self.output_weight = self.output_weight + self.lr_rate * gradient_output_weight/self.n_cells\n",
        "                self.forget_bias = self.forget_bias + self.lr_rate * gradient_forget_bias/self.n_cells\n",
        "                self.input_bias = self.input_bias + self.lr_rate * gradient_input_bias/self.n_cells\n",
        "                self.cell_bias = self.cell_bias + self.lr_rate * gradient_cell_bias/self.n_cells\n",
        "                self.output_bias = self.output_bias + self.lr_rate * gradient_output_bias /self.n_cells               \n",
        "                self.last_bias = self.last_bias + self.lr_rate * gradient_final_bias \n",
        "                self.last_weight = self.last_weight + self.lr_rate * gradient_last_weight\n",
        "                training_loss_per_epoch += ((actual_y[i] - y_pred)**2)/2\n",
        "                num_list.append((actual_y[i]-y_pred)**2)\n",
        "                denom_list.append((y_pred-y_aveg)**2)\n",
        "\n",
        "            r2score= self.R2_score(actual_y,y_list)\n",
        "            rmse=self.rmseFn(actual_y,y_list)\n",
        "            print(\"Epoch: \" ,e, \" Training loss: \", (training_loss_per_epoch/len(x))[0][0], \" r2 Score: \", r2score,\" RMSE: \", rmse)\n",
        "            \n",
        "          \n",
        "    \n",
        "    def predict(self, x_test):         \n",
        "        prediction = []\n",
        "        for i in range(len(x_test)):\n",
        "            pr= self.forward_propagationFn(x_test[i]) \n",
        "            prediction.append(pr)            \n",
        "        return prediction\n",
        "    \n",
        "    #Sigmoid and Tanh Activation function defined below\n",
        "    def sigmoidFn(self, x):\n",
        "        return 1 / (1 + np.exp(-x))\n",
        "    \n",
        "    def tanhFn(self, x):\n",
        "        return np.tanh(x)\n",
        "\n"
      ],
      "metadata": {
        "id": "g9sS8_OHxTz0"
      },
      "execution_count": 39,
      "outputs": []
    },
    {
      "cell_type": "code",
      "source": [
        "n_inputs = 10\n",
        "n_outputs = 1\n",
        "no_neurons = 15\n",
        "n_epochs =10\n",
        "learning_rate=0.05\n",
        "lstm = LSTM1(no_neurons,n_inputs, learning_rate)\n",
        "lstm.fit(n_epochs , X_train1, y_train)\n"
      ],
      "metadata": {
        "colab": {
          "base_uri": "https://localhost:8080/"
        },
        "id": "S5iXpKXfvKEU",
        "outputId": "2af61f42-43c2-49bc-bb2d-79b71b7f478f"
      },
      "execution_count": 41,
      "outputs": [
        {
          "output_type": "stream",
          "name": "stdout",
          "text": [
            "Epoch:  0  Training loss:  0.02856618435023213  r2 Score:  [[0.94286763]]  RMSE:  [[0.23902378]]\n",
            "Epoch:  1  Training loss:  0.021841586339367693  r2 Score:  [[0.95631683]]  RMSE:  [[0.2090052]]\n",
            "Epoch:  2  Training loss:  0.020459110255561075  r2 Score:  [[0.95908178]]  RMSE:  [[0.20228253]]\n",
            "Epoch:  3  Training loss:  0.018445854017850833  r2 Score:  [[0.96310829]]  RMSE:  [[0.19207214]]\n",
            "Epoch:  4  Training loss:  0.023037662127060557  r2 Score:  [[0.95392468]]  RMSE:  [[0.21465163]]\n",
            "Epoch:  5  Training loss:  0.02555586455570927  r2 Score:  [[0.94888827]]  RMSE:  [[0.22607903]]\n",
            "Epoch:  6  Training loss:  0.024032710067748504  r2 Score:  [[0.95193458]]  RMSE:  [[0.21923827]]\n",
            "Epoch:  7  Training loss:  0.02209885028580466  r2 Score:  [[0.9558023]]  RMSE:  [[0.21023249]]\n",
            "Epoch:  8  Training loss:  0.020078287806176903  r2 Score:  [[0.95984342]]  RMSE:  [[0.20039106]]\n",
            "Epoch:  9  Training loss:  0.01796614629715228  r2 Score:  [[0.96406771]]  RMSE:  [[0.18955815]]\n"
          ]
        }
      ]
    },
    {
      "cell_type": "code",
      "source": [
        "trainingPred=np.concatenate(lstm.predict(X_train1)) \n",
        "y_test_pred = np.concatenate(lstm.predict(X_test1))"
      ],
      "metadata": {
        "id": "sFZZ_JFKybQZ"
      },
      "execution_count": 42,
      "outputs": []
    },
    {
      "cell_type": "code",
      "source": [
        "\n",
        "print(\"R2 score of train set\",lstm.R2_score(list(y_train),list(trainingPred))[0])\n",
        "print(\"RMSE of train set\",lstm.rmseFn(list(y_train),list(trainingPred))[0]) \n",
        "print(\"R2 score of test set\", lstm.R2_score(list(y_test),list(y_test_pred))[0])\n",
        "print(\"RMSE of test set\",lstm.rmseFn(list(y_test),list(y_test_pred))[0])"
      ],
      "metadata": {
        "colab": {
          "base_uri": "https://localhost:8080/"
        },
        "id": "3m54L6fyybSy",
        "outputId": "b1257f34-ad63-4777-bbcc-b3e89464d59e"
      },
      "execution_count": 43,
      "outputs": [
        {
          "output_type": "stream",
          "name": "stdout",
          "text": [
            "R2 score of train set 0.9663405010760999\n",
            "RMSE of train set 0.18346525263357114\n",
            "R2 score of test set 0.9641532591731574\n",
            "RMSE of test set 0.18933235546742294\n"
          ]
        }
      ]
    },
    {
      "cell_type": "code",
      "source": [
        "dates=X_test[:,0]"
      ],
      "metadata": {
        "id": "ax7i-geCybYN"
      },
      "execution_count": 45,
      "outputs": []
    },
    {
      "cell_type": "markdown",
      "source": [
        "Concatenate date with the actual and predicted y value and create a dataframe"
      ],
      "metadata": {
        "id": "OIXjKs-Hy2AC"
      }
    },
    {
      "cell_type": "code",
      "source": [
        "newarr=np.concatenate((dates.reshape(-1,1),y_test.reshape(-1,1),y_test_pred),axis=1)\n",
        "\n"
      ],
      "metadata": {
        "id": "4b5m3ZbZyzMs"
      },
      "execution_count": 46,
      "outputs": []
    },
    {
      "cell_type": "code",
      "source": [
        "newdf1=pd.DataFrame(newarr,columns=[\"Date\",\"Act_price\",\"Pred_price\"])"
      ],
      "metadata": {
        "id": "Z6TeJw8byzOd"
      },
      "execution_count": 47,
      "outputs": []
    },
    {
      "cell_type": "code",
      "source": [
        "\n",
        "newdf1.set_index('Date',inplace=True)"
      ],
      "metadata": {
        "id": "kpXDsvMvybbN"
      },
      "execution_count": 48,
      "outputs": []
    },
    {
      "cell_type": "markdown",
      "source": [
        "Plotting the actual closing price with predicted closing price from test data"
      ],
      "metadata": {
        "id": "7yIZyMouy-vT"
      }
    },
    {
      "cell_type": "code",
      "source": [
        "plt.figure(figsize=(18, 10))\n",
        "plt.scatter(newdf1.index,newdf1[\"Act_price\"], label='Actual values')\n",
        "plt.scatter(newdf1.index,newdf1[\"Pred_price\"],color=\"red\", label='Predicted values')\n",
        "plt.xlabel('Date')\n",
        "plt.ylabel('Closing Price')\n",
        "plt.legend()\n",
        "plt.show()"
      ],
      "metadata": {
        "colab": {
          "base_uri": "https://localhost:8080/",
          "height": 605
        },
        "id": "H2-I5yHuy9ZM",
        "outputId": "464771a5-ff48-42d5-b247-f3b82758d1b9"
      },
      "execution_count": 50,
      "outputs": [
        {
          "output_type": "display_data",
          "data": {
            "text/plain": [
              "<Figure size 1296x720 with 1 Axes>"
            ],
            "image/png": "[encoded data removed]"
          },
          "metadata": {
            "needs_background": "light"
          }
        }
      ]
    },
    {
      "cell_type": "code",
      "source": [],
      "metadata": {
        "id": "7BLWuO4Hy9ix"
      },
      "execution_count": null,
      "outputs": []
    },
    {
      "cell_type": "code",
      "source": [],
      "metadata": {
        "id": "AgmsxxqUy9oh"
      },
      "execution_count": null,
      "outputs": []
    },
    {
      "cell_type": "code",
      "source": [],
      "metadata": {
        "id": "Ct70-8J8y9qu"
      },
      "execution_count": null,
      "outputs": []
    }
  ]
}